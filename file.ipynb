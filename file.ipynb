{
 "cells": [
  {
   "cell_type": "code",
   "execution_count": 8,
   "metadata": {},
   "outputs": [
    {
     "name": "stdout",
     "output_type": "stream",
     "text": [
      "48.1329693162095 51.8670306837905\n"
     ]
    }
   ],
   "source": [
    "\"\"\"Answer to the question 1\"\"\"\n",
    "import scipy.stats as stats\n",
    "\n",
    "s_mean = 50\n",
    "s_std = 5\n",
    "s_size = 30\n",
    "\n",
    "alpha = 0.05\n",
    "\n",
    "standard_error = s_std / (s_size ** 0.5)\n",
    "t_value = stats.t.ppf(1-alpha / 2, s_size-1)\n",
    "\n",
    "lower_bound = s_mean - t_value * standard_error\n",
    "upper_bound = s_mean + t_value * standard_error\n",
    "\n",
    "print(lower_bound, upper_bound)\n"
   ]
  },
  {
   "cell_type": "code",
   "execution_count": 21,
   "metadata": {},
   "outputs": [
    {
     "name": "stdout",
     "output_type": "stream",
     "text": [
      "11.070497693516351\n",
      "reject the null hypthesis  \n",
      "the distribution of colors of m&ms in a bag matches does not match  the expected distribution\n"
     ]
    }
   ],
   "source": [
    "# \"\"\"Answer to the question 2\"\"\"/\n",
    "# Q2. Conduct a chi-square goodness of fit test to determine if the distribution of colors of M&Ms in a bag\n",
    "# matches the expected distribution of 20% blue, 20% orange, 20% green, 10% yellow, 10% red, and 20%\n",
    "# brown. Use Python to perform the test with a significance level of 0.05.\n",
    "\n",
    "import scipy.stats as stats \n",
    "import numpy as np\n",
    "alpha=.05\n",
    "ov=np.array([30,34,56,43,23,45])\n",
    "\n",
    "ev=np.array([.20,.20,.20,.10,.10,.20])*sum(ov)\n",
    "chi_val,p_val=stats.chisquare(ov,ev)\n",
    "chi_val,p_val\n",
    "\n",
    "chi_sq_tabulated=stats.chi2.ppf(1-alpha,len(ov)-1)\n",
    "print(chi_sq_tabulated)\n",
    "if chi_val>chi_sq_tabulated:\n",
    "    print(\"reject the null hypthesis  \")\n",
    "    print('the distribution of colors of m&ms in a bag matches does not match  the expected distribution')\n",
    "else :\n",
    "    print(\"failed to reject the null hypothesis \")\n",
    "    print(\"the distribution of colors of m&ms in a bag  match the expected distribution \")"
   ]
  },
  {
   "cell_type": "code",
   "execution_count": 6,
   "metadata": {},
   "outputs": [
    {
     "name": "stdout",
     "output_type": "stream",
     "text": [
      "5.833333333333334\n",
      "0.05411376622282158\n",
      "failed to reject the null hypothesis \n"
     ]
    }
   ],
   "source": [
    "\"answer to the question 3\"\n",
    "# H(0): the outcome and the group is independent \n",
    "# H(1):the outcome and the group are dependent\n",
    "import numpy as np\n",
    "from scipy.stats import chi2_contingency\n",
    "\n",
    "observed = np.array([[20, 15], [10, 25], [15, 20]])\n",
    "chi2_stat, p_val, dof, expected = chi2_contingency(observed)\n",
    "\n",
    "print( chi2_stat)\n",
    "print( p_val)\n",
    "if p_val<0.05:\n",
    "    print(\"reject the null hypothesis \")\n",
    "else:\n",
    "    print(\"failed to reject the null hypothesis \")\n",
    "\n",
    "\n",
    "result(\"\"\"the outcome and the group is independent \"\"\")\n"
   ]
  },
  {
   "cell_type": "code",
   "execution_count": 7,
   "metadata": {},
   "outputs": [
    {
     "name": "stdout",
     "output_type": "stream",
     "text": [
      "0.09151638887130707 0.1484836111286929\n"
     ]
    }
   ],
   "source": [
    "# Q4. A study of the prevalence of smoking in a population of 500 individuals found that 60 individuals\n",
    "# smoked. Use Python to calculate the 95% confidence interval for the true proportion of individuals in the\n",
    "# population who smoke.\n",
    "\n",
    "import scipy.stats as stats\n",
    "\n",
    "n = 500\n",
    "p = 60/500\n",
    "alpha = 0.05\n",
    "\n",
    "se = np.sqrt(p*(1-p)/n)\n",
    "z_critical = stats.norm.ppf(1-alpha/2)\n",
    "\n",
    "lower_bound = p - z_critical*se\n",
    "upper_bound = p + z_critical*se\n",
    "\n",
    "print(lower_bound,upper_bound)\n",
    "\n",
    "\n"
   ]
  },
  {
   "cell_type": "code",
   "execution_count": 56,
   "metadata": {},
   "outputs": [
    {
     "name": "stdout",
     "output_type": "stream",
     "text": [
      "54.61047568159803 95.38952431840197\n"
     ]
    }
   ],
   "source": [
    "# Q5. Calculate the 90% confidence interval for a sample of data with a mean of 75 and a standard deviation\n",
    "# of 12 using Python. Interpret the results.\n",
    "import scipy.stats as stats\n",
    "\n",
    "n_sample = 30 \n",
    "x_bar = 75\n",
    "s = 12\n",
    "alpha = 0.1\n",
    "\n",
    "t_critical = stats.t.ppf(1-alpha/2,df=29)\n",
    "se = s/np.sqrt(n)\n",
    "\n",
    "lower_bound = x_bar - t_critical*se\n",
    "upper_bound = x_bar + t_critical*se\n",
    "\n",
    "print(lower_bound,upper_bound)\n"
   ]
  },
  {
   "cell_type": "code",
   "execution_count": 32,
   "metadata": {},
   "outputs": [
    {
     "data": {
      "image/png": "[encoded data removed]",
      "text/plain": [
       "<Figure size 640x480 with 1 Axes>"
      ]
     },
     "metadata": {},
     "output_type": "display_data"
    }
   ],
   "source": [
    "# Q6. Use Python to plot the chi-square distribution with 10 degrees of freedom. Label the axes and shade the\n",
    "# area corresponding to a chi-square statistic of 15.\n",
    "import numpy as np\n",
    "import matplotlib.pyplot as plt\n",
    "from scipy.stats import chi2\n",
    "\n",
    "df = 10\n",
    "x = np.linspace(0, 50, 500)\n",
    "fig, ax = plt.subplots()\n",
    "ax.plot(x, chi2.pdf(x, df))\n",
    "ax.fill_between(x[x>=15], chi2.pdf(x, df)[x>=15])\n",
    "plt.show()\n"
   ]
  },
  {
   "cell_type": "code",
   "execution_count": 33,
   "metadata": {},
   "outputs": [
    {
     "name": "stdout",
     "output_type": "stream",
     "text": [
      "(0.4793051576779699, 0.5606948423220302)\n"
     ]
    }
   ],
   "source": [
    "# Q7. A random sample of 1000 people was asked if they preferred Coke or Pepsi. Of the sample, 520\n",
    "# preferred Coke. Calculate a 99% confidence interval for the true proportion of people in the population who\n",
    "# prefer Coke.\n",
    "\n",
    "import scipy.stats as stats\n",
    "import numpy as np\n",
    "\n",
    "n = 1000\n",
    "p = 520/n\n",
    "alpha = 0.01\n",
    "\n",
    "z = stats.norm.ppf(1 - alpha/2)\n",
    "\n",
    "se = np.sqrt(p*(1-p)/n)\n",
    "\n",
    "ci = (p - z*se, p + z*se)\n",
    "\n",
    "print(ci)\n"
   ]
  },
  {
   "cell_type": "code",
   "execution_count": 35,
   "metadata": {},
   "outputs": [
    {
     "name": "stdout",
     "output_type": "stream",
     "text": [
      "Fail to reject the null hypothesis\n",
      "1.0\n",
      "0.31731050786291115\n"
     ]
    }
   ],
   "source": [
    "# Q8. A researcher hypothesizes that a coin is biased towards tails. They flip the coin 100 times and observe\n",
    "# 45 tails. Conduct a chi-square goodness of fit test to determine if the observed frequencies match the\n",
    "# expected frequencies of a fair coin. Use a significance level of 0.05.\n",
    "\"\"\" (H0) is that the observed frequencies match the expected frequencies of a fair coin.\n",
    " (Ha) is that the observed frequencies do not match the expected frequencies of a fair coin.\n",
    "H0: The coin is fair.\n",
    "Ha: The coin is biased towards tails.\"\"\"\n",
    "\n",
    "import scipy.stats as stats\n",
    "ob = [45, 55]\n",
    "ex = [50, 50]\n",
    "statistic, p_value = stats.chisquare(ob, ex)\n",
    "df = len(observed) - 1\n",
    "alpha = 0.05\n",
    "critical_value = stats.chi2.ppf(1 -alpha, df)\n",
    "if statistic > critical_value:\n",
    "    print(\"Reject the null hypothesis.\")\n",
    "else:\n",
    "    print(\"Fail to reject the null hypothesis\")\n",
    "    \n",
    "print( statistic)\n",
    "print( p_value)\n",
    "\n",
    "\"\"\"result= the coin is fair\"\"\"\n",
    "\n"
   ]
  },
  {
   "cell_type": "code",
   "execution_count": 49,
   "metadata": {},
   "outputs": [
    {
     "name": "stdout",
     "output_type": "stream",
     "text": [
      "Reject the null hypothesis. \n",
      "12.057347670250895\n",
      "0.0005158863863703744\n",
      "[[ 45. 155.]\n",
      " [ 45. 155.]]\n"
     ]
    }
   ],
   "source": [
    "# \"Q9. A study was conducted to determine if there is an association between smoking status (smoker or\n",
    "# non-smoker) and lung cancer diagnosis (yes or no). The results are shown in the contingency table below.\n",
    "# Conduct a chi-square test for independence to determine if there is a significant association between\n",
    "# smoking status and lung cancer diagnosis.\n",
    "\n",
    "# Use a significance level of 0.05.\n",
    "\n",
    "# Lung Cancer: Yes no\n",
    "\n",
    "# Smoker 60 140\n",
    "# Non-smoker 30 170\"\n",
    "\"\"\" (H0) is that the observed frequencies match the expected frequencies of a fair coin.\n",
    " (Ha) is that the observed frequencies do not match the expected frequencies of a fair coin.\n",
    "H0: row and column is independent\n",
    "Ha: row and column is dependent \"\"\"\n",
    "\n",
    "import scipy.stats as stats\n",
    "import numpy as np\n",
    "observed = np.array([[60, 140], [30, 170]])\n",
    "statistic, pvalue,df, expectedtable = stats.chi2_contingency(observed)\n",
    "alpha = 0.05\n",
    "critical_value = stats.chi2.ppf(q=1 -alpha, df=df)\n",
    "if statistic > critical_value:\n",
    "    print(\"Reject the null hypothesis. \")\n",
    "else:\n",
    "    print(\"Fail to reject the null hypothesis. \")\n",
    "\n",
    "print( statistic)\n",
    "print(pvalue)\n",
    "print( expectedtable)\n",
    "\n",
    "\"\"\"result =there is a significant association between\n",
    "# smoking status and lung cancer diagnosis.\"\"\"\n"
   ]
  },
  {
   "cell_type": "code",
   "execution_count": 50,
   "metadata": {},
   "outputs": [
    {
     "name": "stdout",
     "output_type": "stream",
     "text": [
      "Reject the null hypothesis. \n",
      "13.393665158371041\n",
      "0.0012348168997745915\n",
      "[[212.5 162.5 125. ]\n",
      " [212.5 162.5 125. ]]\n"
     ]
    }
   ],
   "source": [
    "# Q10. A study was conducted to determine if the proportion of people who prefer milk chocolate, dark\n",
    "# chocolate, or white chocolate is different in the U.S. versus the U.K. A random sample of 500 people from\n",
    "# the U.S. and a random sample of 500 people from the U.K. were surveyed. The results are shown in the\n",
    "# contingency table below. Conduct a chi-square test for independence to determine if there is a significant\n",
    "# association between chocolate preference and country of origin.\n",
    "\n",
    "# Use a significance level of 0.01.\n",
    "# Milk-Chocolate dark_choclate white-choclate\n",
    "\n",
    "# U.S. (n=500) 200 150 150\n",
    "# U.K. (n=500) 225 175 100\n",
    "\n",
    "\"\"\" (H0) is that the observed frequencies match the expected frequencies of a fair coin.\n",
    " (Ha) is that the observed frequencies do not match the expected frequencies of a fair coin.\n",
    "H0: row and column is independent\n",
    "Ha: row and column is dependent \"\"\"\n",
    "\n",
    "import scipy.stats as stats\n",
    "import numpy as np\n",
    "observed = np.array([[200, 150,150], [225,175,100]])\n",
    "statistic, pvalue,df, expectedtable = stats.chi2_contingency(observed)\n",
    "alpha = 0.01\n",
    "critical_value = stats.chi2.ppf(q=1 -alpha, df=df)\n",
    "if statistic > critical_value:\n",
    "    print(\"Reject the null hypothesis. \")\n",
    "else:\n",
    "    print(\"Fail to reject the null hypothesis. \")\n",
    "\n",
    "print( statistic)\n",
    "print(pvalue)\n",
    "print( expectedtable)\n",
    "\"\"\"result= here is a significant\n",
    "# association between chocolate preference and country of origin.\"\"\""
   ]
  },
  {
   "cell_type": "code",
   "execution_count": null,
   "metadata": {},
   "outputs": [],
   "source": [
    "# Q11. A random sample of 30 people was selected from a population with an unknown mean and standard\n",
    "# deviation. The sample mean was found to be 72 and the sample standard deviation was found to be 10.\n",
    "# Conduct a hypothesis test to determine if the population mean is significantly different from 70. Use a\n",
    "# significance level of 0.05."
   ]
  },
  {
   "cell_type": "code",
   "execution_count": 54,
   "metadata": {},
   "outputs": [
    {
     "name": "stdout",
     "output_type": "stream",
     "text": [
      "Fail to reject the null hypothesis. \n",
      "1.0954451150103321\n",
      "2.045229642132703\n"
     ]
    }
   ],
   "source": [
    "import scipy.stats as stats\n",
    "import numpy as np\n",
    "\"\"\"H(0):The population mean is significantly different from 70.\n",
    "H(1):There is not enough evidence to suggest that the population mean is significantly different from 70.\"\"\"\n",
    "s_mean = 72\n",
    "s_std = 10\n",
    "s_size = 30\n",
    "mu = 70\n",
    "significance_level = 0.05\n",
    "t_value = (s_mean - mu) / (s_std / np.sqrt(s_size))\n",
    "critical_value = stats.t.ppf(q=1 - significance_level / 2, df=s_size - 1)\n",
    "if abs(t_value) > critical_value:\n",
    "    print(\"Reject the null hypothesis. \")\n",
    "else:\n",
    "    print(\"Fail to reject the null hypothesis. \")\n",
    "\n",
    "print( t_value)\n",
    "print(critical_value)\n",
    "\n",
    "\"\"\"result=the population mean is significantly diffrent from 70\"\"\"\n"
   ]
  },
  {
   "cell_type": "code",
   "execution_count": null,
   "metadata": {},
   "outputs": [],
   "source": []
  }
 ],
 "metadata": {
  "kernelspec": {
   "display_name": "Python 3",
   "language": "python",
   "name": "python3"
  },
  "language_info": {
   "codemirror_mode": {
    "name": "ipython",
    "version": 3
   },
   "file_extension": ".py",
   "mimetype": "text/x-python",
   "name": "python",
   "nbconvert_exporter": "python",
   "pygments_lexer": "ipython3",
   "version": "3.11.2"
  },
  "orig_nbformat": 4
 },
 "nbformat": 4,
 "nbformat_minor": 2
}
